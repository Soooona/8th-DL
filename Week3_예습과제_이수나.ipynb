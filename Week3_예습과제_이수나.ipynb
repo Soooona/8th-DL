{
  "nbformat": 4,
  "nbformat_minor": 0,
  "metadata": {
    "colab": {
      "provenance": [],
      "gpuType": "T4"
    },
    "kernelspec": {
      "name": "python3",
      "display_name": "Python 3"
    },
    "language_info": {
      "name": "python"
    },
    "accelerator": "GPU"
  },
  "cells": [
    {
      "cell_type": "markdown",
      "source": [
        "# 5.2 합성곱 신경망 맛보기\n",
        "\n",
        ": fashion_mnist 데이터셋을 사용해 합성곱 신경망 구현하기\n",
        "\n",
        "**[fashion_mnist 데이터셋]**\n",
        "torchvision에 내장된 예제 데이터로 운도오하, 셔츠, 샌들 같은 작은 이미지모음\n",
        "기본 MNIST 데이터셋처럼 열 가지로 분류될 수 잇는 28*28 픽셀 이미지 7만 개로 구성\n",
        "\n",
        "\n",
        "*   훈련 데이터(train_images): 0-255 사이의 값을 갖는 28*28 크기의 넘파이 배열\n",
        "*   정답 데이터(train_labels): 0-9까지의 정수 값을 갖는 배열\n",
        "\n",
        "0에서 9까지의 정수 값은 이미지의 클래스(운동화, 셔츠 등)를 나타내는 레이블임\n",
        "\n",
        "\n"
      ],
      "metadata": {
        "id": "nlqXfNxSdc7B"
      }
    },
    {
      "cell_type": "code",
      "source": [
        "# 라이브러리 호출\n",
        "import numpy as np\n",
        "import matplotlib.pyplot as plt\n",
        "\n",
        "import torch\n",
        "import torch.nn as nn\n",
        "from torch.autograd import Variable\n",
        "import torch.nn.functional as F\n",
        "\n",
        "import torchvision\n",
        "import torchvision.transforms as transforms # 데이터 전처리를 위해 사용하는 라이브러리\n",
        "from torch.utils.data import Dataset, DataLoader"
      ],
      "metadata": {
        "id": "YC-5UHUuoOBh"
      },
      "execution_count": 4,
      "outputs": []
    },
    {
      "cell_type": "code",
      "source": [
        "# CPU 혹은 GPU 장치 확인\n",
        "device = torch.device(\"cuda:0\" if torch.cuda.is_available() else \"cpu\")"
      ],
      "metadata": {
        "id": "jmi_FGQupA2M"
      },
      "execution_count": 6,
      "outputs": []
    },
    {
      "cell_type": "code",
      "source": [
        "#fashoin_mnist dataset 내려받기\n",
        "train_dataset  = torchvision.datasets.FashionMNIST(\"FashionMNIST/\", download=True, transform=\n",
        "                                                transforms.Compose([transforms.ToTensor()]))\n",
        "test_dataset  = torchvision.datasets.FashionMNIST(\"FashionMNIST/\", download=True, train=False, transform=\n",
        "                                               transforms.Compose([transforms.ToTensor()]))"
      ],
      "metadata": {
        "id": "UqO6HDLcpc-l",
        "colab": {
          "base_uri": "https://localhost:8080/"
        },
        "outputId": "a8f587ba-00c4-43cc-b1cd-84168cbfb322"
      },
      "execution_count": 7,
      "outputs": [
        {
          "output_type": "stream",
          "name": "stderr",
          "text": [
            "100%|██████████| 26.4M/26.4M [00:02<00:00, 10.8MB/s]\n",
            "100%|██████████| 29.5k/29.5k [00:00<00:00, 171kB/s]\n",
            "100%|██████████| 4.42M/4.42M [00:01<00:00, 3.13MB/s]\n",
            "100%|██████████| 5.15k/5.15k [00:00<00:00, 14.8MB/s]\n"
          ]
        }
      ]
    },
    {
      "cell_type": "markdown",
      "source": [
        "torchvizion.datasets는 torch.utils.data.Dataset의 하위 클래스로 다양한 데이터셋(CIFAR, COCO, MNIST, ImageNet 등)을 포함함"
      ],
      "metadata": {
        "id": "KpDAzhFRndYN"
      }
    },
    {
      "cell_type": "code",
      "source": [
        "# fashion_minist 데이터를 데이터로더에 전달\n",
        "train_loader = torch.utils.data.DataLoader(train_dataset, batch_size=100)\n",
        "test_loader = torch.utils.data.DataLoader(test_dataset, batch_size=100)"
      ],
      "metadata": {
        "id": "W_5jY432tZnk"
      },
      "execution_count": 8,
      "outputs": []
    },
    {
      "cell_type": "markdown",
      "source": [
        "torch.utils.data.DataLoader()를 사용해 원하는 크기의 배치단위로 데이터를 불러오거나 무작위로 섞이도록(shuffle)할 수 있음"
      ],
      "metadata": {
        "id": "vfwdOY9JntMt"
      }
    },
    {
      "cell_type": "code",
      "source": [
        "# 분류에 사용될 클래스 정의\n",
        "labels_map = {0: 'T-Shirt', 1:'Trouser', 2:'Pullover', 3:'Dress', 4:'Coat',\n",
        "              5: 'Sandal', 6:'Shirt', 7:'Sneaker', 8:'Bag', 9:'Ankle Boot'}\n",
        "fig = plt.figure(figsize=(8,8)) # 출력할 이미지의 가로세로 길이 inch\n",
        "columns = 4\n",
        "rows = 5\n",
        "for i in range(1, columns*rows +1):\n",
        "    img_xy = np.random.randint(len(train_dataset))\n",
        "    img = train_dataset[img_xy][0][0,:,:]\n",
        "    fig.add_subplot(rows, columns, i)\n",
        "    plt.title(labels_map[train_dataset[img_xy][1]])\n",
        "    plt.axis('off')\n",
        "    plt.imshow(img, cmap='gray')\n",
        "plt.show() # 20개의 이미지를 무작위로 표현"
      ],
      "metadata": {
        "id": "dhN90pVnt29-",
        "colab": {
          "base_uri": "https://localhost:8080/",
          "height": 675
        },
        "outputId": "b9199e6a-73da-4f9b-fb7c-de60df14e0cf"
      },
      "execution_count": 9,
      "outputs": [
        {
          "output_type": "display_data",
          "data": {
            "text/plain": [
              "<Figure size 800x800 with 20 Axes>"
            ],
            "image/png": "[encoded data removed]"
          },
          "metadata": {}
        }
      ]
    },
    {
      "cell_type": "code",
      "source": [
        "# 심층 신경망 모델 생성\n",
        "class FashionDNN(nn.Module):\n",
        "    def __init__(self):\n",
        "        super(FashionDNN, self).__init__()\n",
        "        self.fc1 = nn.Linear(in_features=784, out_features=256)\n",
        "        self.drop = nn.Dropout(0.25)\n",
        "        self.fc2 = nn.Linear(in_features=256, out_features=128)\n",
        "        self.fc3 = nn.Linear(in_features=128, out_features=10)\n",
        "\n",
        "    def forward(self, input_data):\n",
        "        out = input_data.view(-1,784)\n",
        "        out = F.relu(self.fc1(out))\n",
        "        out = self.drop(out)\n",
        "        out = F.relu(self.fc2(out))\n",
        "        out = self.fc3(out)\n",
        "        return out\n"
      ],
      "metadata": {
        "id": "RlYMXJ7pt3J9"
      },
      "execution_count": 23,
      "outputs": []
    },
    {
      "cell_type": "markdown",
      "source": [
        "\n",
        "\n",
        "*   torch.nn.Dropout(p) : p만큼의 비율로 텐서의 값이 0이 되고, 0이 되지 않은 값들은 기존 값에 (1/(1-p))만큼 곱해져 커짐\n",
        "\n",
        "*   활성화함수를 지정할 때는 두 가지 방법이 가능\n",
        "    - F.relu(): forward() 함수에서 정의\n",
        "    - nn.ReLU(): __ init __() 함수에서 정의\n",
        "\n"
      ],
      "metadata": {
        "id": "mtnmQSYUoMdw"
      }
    },
    {
      "cell_type": "code",
      "source": [
        "# 심층 신경망에서 필요한 파라미터 정의\n",
        "learning_rate = 0.001\n",
        "model = FashionDNN()\n",
        "model.to(device)\n",
        "\n",
        "criterion = nn.CrossEntropyLoss()\n",
        "optimizer = torch.optim.Adam(model.parameters(), lr = learning_rate)\n",
        "print(model)"
      ],
      "metadata": {
        "colab": {
          "base_uri": "https://localhost:8080/"
        },
        "id": "Iz9g3BIcgEPw",
        "outputId": "1b694071-3aa5-4ffe-d07e-fe10e5f71ac3"
      },
      "execution_count": 24,
      "outputs": [
        {
          "output_type": "stream",
          "name": "stdout",
          "text": [
            "FashionDNN(\n",
            "  (fc1): Linear(in_features=784, out_features=256, bias=True)\n",
            "  (drop): Dropout(p=0.25, inplace=False)\n",
            "  (fc2): Linear(in_features=256, out_features=128, bias=True)\n",
            "  (fc3): Linear(in_features=128, out_features=10, bias=True)\n",
            ")\n"
          ]
        }
      ]
    },
    {
      "cell_type": "code",
      "source": [
        "# 심층 신경망을 이용한 모델 학습\n",
        "num_epochs = 5\n",
        "count = 0\n",
        "loss_list=[]\n",
        "iteration_list=[]\n",
        "accuracy_list=[]\n",
        "\n",
        "predictions_list = []\n",
        "labels_list = []\n",
        "\n",
        "for epoch in range(num_epochs):\n",
        "    for images, labels in train_loader:\n",
        "        images, labels = images.to(device), labels.to(device)\n",
        "\n",
        "        train = Variable(images.view(100,1,28,28))\n",
        "        labels = Variable(labels)\n",
        "\n",
        "        outputs = model(train) # 학습 데이터를 모델에 적용\n",
        "        loss =  criterion(outputs, labels)\n",
        "        optimizer.zero_grad()\n",
        "        loss.backward()\n",
        "        optimizer.step()\n",
        "        count += 1\n",
        "\n",
        "        if not (count % 50):\n",
        "            total = 0\n",
        "            correct=0\n",
        "            for images, labels in test_loader:\n",
        "                images, labels =images.to(device), labels.to(device)\n",
        "                labels_list.append(labels)\n",
        "                test = Variable(images.view(100,1,28,28))\n",
        "                outputs = model(test)\n",
        "                predictions = torch.max(outputs, 1)[1].to(device)\n",
        "                predictions_list.append(predictions)\n",
        "                correct += (predictions == labels).sum()\n",
        "                total += len(labels)\n",
        "\n",
        "            accuracy = correct * 100/total\n",
        "            loss_list.append(loss.data)\n",
        "            iteration_list.append(count)\n",
        "            accuracy_list.append(accuracy)\n",
        "\n",
        "        if not (count % 500):\n",
        "            print(\"Iteration: {}, Loss:{} Accuracy: {}%\".format(count, loss.data, accuracy))\n"
      ],
      "metadata": {
        "colab": {
          "base_uri": "https://localhost:8080/"
        },
        "id": "BeDoICjvgZTX",
        "outputId": "540ef241-2dc3-4a42-adef-c54e187562e8"
      },
      "execution_count": 25,
      "outputs": [
        {
          "output_type": "stream",
          "name": "stdout",
          "text": [
            "Iteration: 500, Loss:0.6321585178375244 Accuracy: 82.79000091552734%\n",
            "Iteration: 1000, Loss:0.5468452572822571 Accuracy: 84.11000061035156%\n",
            "Iteration: 1500, Loss:0.36845633387565613 Accuracy: 84.68000030517578%\n",
            "Iteration: 2000, Loss:0.4037477970123291 Accuracy: 85.79999542236328%\n",
            "Iteration: 2500, Loss:0.25255286693573 Accuracy: 86.29000091552734%\n",
            "Iteration: 3000, Loss:0.31004559993743896 Accuracy: 86.08999633789062%\n"
          ]
        }
      ]
    },
    {
      "cell_type": "code",
      "source": [
        "# 합성곱 네트워크 생성\n",
        "class FashionCNN(nn.Module):\n",
        "    def __init__(self):\n",
        "        super(FashionCNN, self).__init__()\n",
        "        self.layer1 = nn.Sequential(\n",
        "            nn.Conv2d(in_channels=1, out_channels=32, kernel_size=3, padding=1),\n",
        "            nn.BatchNorm2d(32),\n",
        "            nn.ReLU(),\n",
        "            nn.MaxPool2d(kernel_size=2, stride=2)\n",
        "        )\n",
        "        self.layer2 = nn.Sequential(\n",
        "            nn.Conv2d(in_channels=32, out_channels=64, kernel_size=3),\n",
        "            nn.BatchNorm2d(64),\n",
        "            nn.ReLU(),\n",
        "            nn.MaxPool2d(2)\n",
        "        )\n",
        "        self.fc1 = nn.Linear(in_features=64*6*6, out_features=600)\n",
        "        self.drop = nn.Dropout2d(0.25)\n",
        "        self.fc2 = nn.Linear(in_features=600, out_features=120)\n",
        "        self.fc3 = nn.Linear(in_features=120, out_features=10)\n",
        "\n",
        "    def forward(self, x):\n",
        "        out = self.layer1(x)\n",
        "        out = self.layer2(out)\n",
        "        out = out.view(out.size(0), -1)\n",
        "        out = self.fc1(out)\n",
        "        out = self.drop(out)\n",
        "        out = self.fc2(out)\n",
        "        out = self.fc3(out)\n",
        "        return out\n"
      ],
      "metadata": {
        "id": "INjH_EoqjKe6"
      },
      "execution_count": 19,
      "outputs": []
    },
    {
      "cell_type": "markdown",
      "source": [
        " nn.Sequential : init()에서 사용할 네트워크 모델들을 정의해주고, forward()함수에서 구현될 순전파를 layer 형태로 가독성있게 코드를 작성할 수 있음\n",
        "\n",
        "\n",
        "> nn.Sequetial은 계층을 차례대로 쌓을 수 있도록 Wx+b와 같은 수식과 활성화함수를 연결해 주는 역할을 함\n",
        "\n",
        "합성곱층은 합성곱 연산을 통해서 이미지 특징을 추출\n",
        "커널(n*m 크기의 행렬)이 이미지(h*w)를 훑으며 각 원소값끼리 곱한 후 더한 값을 출력\n",
        "Conv2d [입력이 이미지 데이터]\n",
        "* in_channels : 입력 채널의 수 ( 흑백 이미지는 1, RGB는 3인 경우가 많음)\n",
        "* out_channels : 출력 채널의 수\n",
        "* kernel_size: 3이라고 했을 때 (3,3)의미\n",
        "* padding: 출력 크기를 조절하기 위해 입력 데이터 주위에 0을 채우는 크기, 출력값과 비례\n",
        "\n",
        "BatchNorm2d: 학습 과정에서 각 배치 단위별로 데이터가 다양한 분포를 가지더라도 평균과 분산을 이용하여 정규화하는 것\n",
        "\n",
        "MaxPool2d: 이미지 크기를 축소시키는 용도(풀링) [입력이 이미지 데이터]\n",
        "\n",
        "kernel_size: m*n 행렬로 구성된 가중치\n",
        "stride: 출력값과 반비례\n",
        "\n",
        "in_features: 입력 데이터의 크기\n",
        "out_features: 출력 데이터의 크기\n",
        "\n",
        "\n"
      ],
      "metadata": {
        "id": "y3pKJtsBo_j1"
      }
    },
    {
      "cell_type": "code",
      "source": [
        "# 합성곱 네트워크를 위한 파라미터 정의\n",
        "learning_rate = 0.001\n",
        "model = FashionCNN()\n",
        "model.to(device)\n",
        "\n",
        "criterion = nn.CrossEntropyLoss()\n",
        "optimizer = torch.optim.Adam(model.parameters(), lr = learning_rate)\n",
        "print(model)"
      ],
      "metadata": {
        "colab": {
          "base_uri": "https://localhost:8080/"
        },
        "id": "zPtQYZvYlKWF",
        "outputId": "2efd5846-9e28-4081-eedf-2ca890b89b26"
      },
      "execution_count": 20,
      "outputs": [
        {
          "output_type": "stream",
          "name": "stdout",
          "text": [
            "FashionCNN(\n",
            "  (layer1): Sequential(\n",
            "    (0): Conv2d(1, 32, kernel_size=(3, 3), stride=(1, 1), padding=(1, 1))\n",
            "    (1): BatchNorm2d(32, eps=1e-05, momentum=0.1, affine=True, track_running_stats=True)\n",
            "    (2): ReLU()\n",
            "    (3): MaxPool2d(kernel_size=2, stride=2, padding=0, dilation=1, ceil_mode=False)\n",
            "  )\n",
            "  (layer2): Sequential(\n",
            "    (0): Conv2d(32, 64, kernel_size=(3, 3), stride=(1, 1))\n",
            "    (1): BatchNorm2d(64, eps=1e-05, momentum=0.1, affine=True, track_running_stats=True)\n",
            "    (2): ReLU()\n",
            "    (3): MaxPool2d(kernel_size=2, stride=2, padding=0, dilation=1, ceil_mode=False)\n",
            "  )\n",
            "  (fc1): Linear(in_features=2304, out_features=600, bias=True)\n",
            "  (drop): Dropout2d(p=0.25, inplace=False)\n",
            "  (fc2): Linear(in_features=600, out_features=120, bias=True)\n",
            "  (fc3): Linear(in_features=120, out_features=10, bias=True)\n",
            ")\n"
          ]
        }
      ]
    },
    {
      "cell_type": "code",
      "source": [
        "num_epochs = 5\n",
        "count = 0\n",
        "loss_list=[]\n",
        "iteration_list=[]\n",
        "accuracy_list=[]\n",
        "\n",
        "predictions_list = []\n",
        "labels_list = []\n",
        "\n",
        "for epoch in range(num_epochs):\n",
        "    for images, labels in train_loader:\n",
        "        images, labels = images.to(device), labels.to(device)\n",
        "\n",
        "        train = Variable(images.view(100,1,28,28))\n",
        "        labels = Variable(labels)\n",
        "\n",
        "        outputs = model(train)\n",
        "        loss =  criterion(outputs, labels)\n",
        "        optimizer.zero_grad()\n",
        "        loss.backward()\n",
        "        optimizer.step()\n",
        "        count += 1\n",
        "\n",
        "        if not (count % 50):\n",
        "            total = 0\n",
        "            correct=0\n",
        "            for images, labels in test_loader:\n",
        "                images, labels =images.to(device), labels.to(device)\n",
        "                labels_list.append(labels)\n",
        "                test = Variable(images.view(100,1,28,28))\n",
        "                outputs = model(test)\n",
        "                predictions = torch.max(outputs, 1)[1].to(device)\n",
        "                predictions_list.append(predictions)\n",
        "                correct += (predictions == labels).sum()\n",
        "                total += len(labels)\n",
        "\n",
        "            accuracy = correct * 100/total\n",
        "            loss_list.append(loss.data)\n",
        "            iteration_list.append(count)\n",
        "            accuracy_list.append(accuracy)\n",
        "\n",
        "        if not (count % 500):\n",
        "            print(\"Iteration: {}, Loss:{} Accuracy: {}%\".format(count, loss.data, accuracy))\n"
      ],
      "metadata": {
        "colab": {
          "base_uri": "https://localhost:8080/"
        },
        "id": "uPVXIxhTlfSP",
        "outputId": "a59d866a-dd9e-43d1-e278-04aae118535a"
      },
      "execution_count": 21,
      "outputs": [
        {
          "output_type": "stream",
          "name": "stderr",
          "text": [
            "/usr/local/lib/python3.11/dist-packages/torch/nn/functional.py:1538: UserWarning: dropout2d: Received a 2-D input to dropout2d, which is deprecated and will result in an error in a future release. To retain the behavior and silence this warning, please use dropout instead. Note that dropout2d exists to provide channel-wise dropout on inputs with 2 spatial dimensions, a channel dimension, and an optional batch dimension (i.e. 3D or 4D inputs).\n",
            "  warnings.warn(warn_msg)\n"
          ]
        },
        {
          "output_type": "stream",
          "name": "stdout",
          "text": [
            "Iteration: 500, Loss:0.46127253770828247 Accuracy: 88.08999633789062%\n",
            "Iteration: 1000, Loss:0.2912640869617462 Accuracy: 88.22999572753906%\n",
            "Iteration: 1500, Loss:0.3206319510936737 Accuracy: 88.98999786376953%\n",
            "Iteration: 2000, Loss:0.2145872861146927 Accuracy: 89.19999694824219%\n",
            "Iteration: 2500, Loss:0.13563239574432373 Accuracy: 89.5999984741211%\n",
            "Iteration: 3000, Loss:0.1481342911720276 Accuracy: 90.38999938964844%\n"
          ]
        }
      ]
    }
  ]
}